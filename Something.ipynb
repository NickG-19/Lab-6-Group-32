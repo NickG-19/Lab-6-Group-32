{
 "cells": [
  {
   "cell_type": "code",
   "execution_count": 10,
   "metadata": {},
   "outputs": [
    {
     "name": "stdin",
     "output_type": "stream",
     "text": [
      "What is your name:  Nick\n",
      "What is your age:  18\n",
      "What is the current year:  2022\n"
     ]
    },
    {
     "name": "stdout",
     "output_type": "stream",
     "text": [
      "Hello Nick, you are 18 years old! You were born in the year 2004\n",
      "You should make your username Nick04!\n"
     ]
    }
   ],
   "source": [
    "name = input(\"What is your name: \")\n",
    "age = input(\"What is your age: \")\n",
    "birth_year = str(int(input(\"What is the current year: \")) - int(age))\n",
    "username = name + birth_year[2:]\n",
    "\n",
    "print(\"Hello \" + name + \", you are \" + age + \" years old! You were born in the year \" + birth_year)\n",
    "print(\"You should make your username \" +  username + \"!\")"
   ]
  },
  {
   "cell_type": "code",
   "execution_count": null,
   "metadata": {},
   "outputs": [],
   "source": []
  }
 ],
 "metadata": {
  "kernelspec": {
   "display_name": "Python 3",
   "language": "python",
   "name": "python3"
  },
  "language_info": {
   "codemirror_mode": {
    "name": "ipython",
    "version": 3
   },
   "file_extension": ".py",
   "mimetype": "text/x-python",
   "name": "python",
   "nbconvert_exporter": "python",
   "pygments_lexer": "ipython3",
   "version": "3.8.3"
  }
 },
 "nbformat": 4,
 "nbformat_minor": 4
}
